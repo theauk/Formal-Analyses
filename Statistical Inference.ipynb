{
 "cells": [
  {
   "cell_type": "markdown",
   "metadata": {},
   "source": [
    "# Appendix A: Import and Analysis of Data"
   ]
  },
  {
   "cell_type": "code",
   "execution_count": 1,
   "metadata": {},
   "outputs": [
    {
     "data": {
      "text/html": [
       "<div>\n",
       "<style scoped>\n",
       "    .dataframe tbody tr th:only-of-type {\n",
       "        vertical-align: middle;\n",
       "    }\n",
       "\n",
       "    .dataframe tbody tr th {\n",
       "        vertical-align: top;\n",
       "    }\n",
       "\n",
       "    .dataframe thead th {\n",
       "        text-align: right;\n",
       "    }\n",
       "</style>\n",
       "<table border=\"1\" class=\"dataframe\">\n",
       "  <thead>\n",
       "    <tr style=\"text-align: right;\">\n",
       "      <th></th>\n",
       "      <th>school</th>\n",
       "      <th>region</th>\n",
       "      <th>start_median</th>\n",
       "      <th>mid_median</th>\n",
       "    </tr>\n",
       "  </thead>\n",
       "  <tbody>\n",
       "    <tr>\n",
       "      <th>70</th>\n",
       "      <td>University of Notre Dame</td>\n",
       "      <td>Midwestern</td>\n",
       "      <td>56300.0</td>\n",
       "      <td>116000.0</td>\n",
       "    </tr>\n",
       "    <tr>\n",
       "      <th>71</th>\n",
       "      <td>University Of Chicago</td>\n",
       "      <td>Midwestern</td>\n",
       "      <td>53400.0</td>\n",
       "      <td>113000.0</td>\n",
       "    </tr>\n",
       "    <tr>\n",
       "      <th>72</th>\n",
       "      <td>Carleton College</td>\n",
       "      <td>Midwestern</td>\n",
       "      <td>47500.0</td>\n",
       "      <td>103000.0</td>\n",
       "    </tr>\n",
       "    <tr>\n",
       "      <th>73</th>\n",
       "      <td>Illinois Institute of Technology (IIT)</td>\n",
       "      <td>Midwestern</td>\n",
       "      <td>56000.0</td>\n",
       "      <td>97800.0</td>\n",
       "    </tr>\n",
       "    <tr>\n",
       "      <th>74</th>\n",
       "      <td>Case Western Reserve University</td>\n",
       "      <td>Midwestern</td>\n",
       "      <td>56200.0</td>\n",
       "      <td>96500.0</td>\n",
       "    </tr>\n",
       "  </tbody>\n",
       "</table>\n",
       "</div>"
      ],
      "text/plain": [
       "                                    school      region  start_median  \\\n",
       "70                University of Notre Dame  Midwestern       56300.0   \n",
       "71                   University Of Chicago  Midwestern       53400.0   \n",
       "72                        Carleton College  Midwestern       47500.0   \n",
       "73  Illinois Institute of Technology (IIT)  Midwestern       56000.0   \n",
       "74         Case Western Reserve University  Midwestern       56200.0   \n",
       "\n",
       "    mid_median  \n",
       "70    116000.0  \n",
       "71    113000.0  \n",
       "72    103000.0  \n",
       "73     97800.0  \n",
       "74     96500.0  "
      ]
     },
     "execution_count": 1,
     "metadata": {},
     "output_type": "execute_result"
    }
   ],
   "source": [
    "#import relevant packages and libraries\n",
    "%matplotlib inline\n",
    "import pandas as pd\n",
    "import numpy as np\n",
    "from scipy import stats\n",
    "import matplotlib.pyplot as plt\n",
    "plt.rcParams.update({'font.size':14})\n",
    "\n",
    "#import the data using pandas by reading the data into a dataframe\n",
    "data = pd.read_csv(\"salaries-by-region.csv\", sep=',')\n",
    "\n",
    "#delete unnecessary columns\n",
    "data = data.drop(\"Mid-Career 10th Percentile Salary\", axis=1)\n",
    "data = data.drop(\"Mid-Career 25th Percentile Salary\", axis=1)\n",
    "data = data.drop(\"Mid-Career 75th Percentile Salary\", axis=1)\n",
    "data = data.drop(\"Mid-Career 90th Percentile Salary\", axis=1)\n",
    "\n",
    "#deleting unnecessary rows to only include Midwestern and Southern schools\n",
    "data = data[data.Region != \"California\"]\n",
    "data = data[data.Region != \"Northeastern\"]\n",
    "data = data[data.Region != \"Western\"]\n",
    "\n",
    "#rename columns to make them easier to work with\n",
    "data.columns = ['school', 'region', 'start_median', 'mid_median']\n",
    "\n",
    "#convert all dollar sign values from strings to numbers\n",
    "dollar_col = ['start_median', 'mid_median']\n",
    "for i in dollar_col:\n",
    "    data[i] = data[i].str.replace(\"$\",\"\")\n",
    "    data[i] = data[i].str.replace(\",\",\"\")\n",
    "    data[i] = pd.to_numeric(data[i])\n",
    "\n",
    "#show the first 5 rows of data\n",
    "data.head(5)"
   ]
  },
  {
   "cell_type": "code",
   "execution_count": 2,
   "metadata": {},
   "outputs": [
    {
     "name": "stdout",
     "output_type": "stream",
     "text": [
      "Number of schools per region\n"
     ]
    },
    {
     "data": {
      "text/html": [
       "<div>\n",
       "<style scoped>\n",
       "    .dataframe tbody tr th:only-of-type {\n",
       "        vertical-align: middle;\n",
       "    }\n",
       "\n",
       "    .dataframe tbody tr th {\n",
       "        vertical-align: top;\n",
       "    }\n",
       "\n",
       "    .dataframe thead th {\n",
       "        text-align: right;\n",
       "    }\n",
       "</style>\n",
       "<table border=\"1\" class=\"dataframe\">\n",
       "  <thead>\n",
       "    <tr style=\"text-align: right;\">\n",
       "      <th></th>\n",
       "      <th>region</th>\n",
       "      <th>start_median</th>\n",
       "    </tr>\n",
       "  </thead>\n",
       "  <tbody>\n",
       "    <tr>\n",
       "      <th>0</th>\n",
       "      <td>Midwestern</td>\n",
       "      <td>71</td>\n",
       "    </tr>\n",
       "    <tr>\n",
       "      <th>1</th>\n",
       "      <td>Southern</td>\n",
       "      <td>79</td>\n",
       "    </tr>\n",
       "  </tbody>\n",
       "</table>\n",
       "</div>"
      ],
      "text/plain": [
       "       region  start_median\n",
       "0  Midwestern            71\n",
       "1    Southern            79"
      ]
     },
     "execution_count": 2,
     "metadata": {},
     "output_type": "execute_result"
    }
   ],
   "source": [
    "#grouping the data into regions and calculating the mean start median salery per\n",
    "#region using a library function\n",
    "print(\"Number of schools per region\")\n",
    "data.groupby('region', as_index=False)['start_median'].count()"
   ]
  },
  {
   "cell_type": "code",
   "execution_count": 3,
   "metadata": {},
   "outputs": [
    {
     "name": "stdout",
     "output_type": "stream",
     "text": [
      "Mean starting median salary\n"
     ]
    },
    {
     "data": {
      "text/html": [
       "<div>\n",
       "<style scoped>\n",
       "    .dataframe tbody tr th:only-of-type {\n",
       "        vertical-align: middle;\n",
       "    }\n",
       "\n",
       "    .dataframe tbody tr th {\n",
       "        vertical-align: top;\n",
       "    }\n",
       "\n",
       "    .dataframe thead th {\n",
       "        text-align: right;\n",
       "    }\n",
       "</style>\n",
       "<table border=\"1\" class=\"dataframe\">\n",
       "  <thead>\n",
       "    <tr style=\"text-align: right;\">\n",
       "      <th></th>\n",
       "      <th>region</th>\n",
       "      <th>start_median</th>\n",
       "    </tr>\n",
       "  </thead>\n",
       "  <tbody>\n",
       "    <tr>\n",
       "      <th>0</th>\n",
       "      <td>Midwestern</td>\n",
       "      <td>44225.352113</td>\n",
       "    </tr>\n",
       "    <tr>\n",
       "      <th>1</th>\n",
       "      <td>Southern</td>\n",
       "      <td>44521.518987</td>\n",
       "    </tr>\n",
       "  </tbody>\n",
       "</table>\n",
       "</div>"
      ],
      "text/plain": [
       "       region  start_median\n",
       "0  Midwestern  44225.352113\n",
       "1    Southern  44521.518987"
      ]
     },
     "execution_count": 3,
     "metadata": {},
     "output_type": "execute_result"
    }
   ],
   "source": [
    "#calculating the mean starting median salery per region using a library function\n",
    "print(\"Mean starting median salary\")\n",
    "data.groupby('region', as_index=False)['start_median'].mean()"
   ]
  },
  {
   "cell_type": "code",
   "execution_count": 4,
   "metadata": {},
   "outputs": [
    {
     "name": "stdout",
     "output_type": "stream",
     "text": [
      "Median starting median salary\n"
     ]
    },
    {
     "data": {
      "text/html": [
       "<div>\n",
       "<style scoped>\n",
       "    .dataframe tbody tr th:only-of-type {\n",
       "        vertical-align: middle;\n",
       "    }\n",
       "\n",
       "    .dataframe tbody tr th {\n",
       "        vertical-align: top;\n",
       "    }\n",
       "\n",
       "    .dataframe thead th {\n",
       "        text-align: right;\n",
       "    }\n",
       "</style>\n",
       "<table border=\"1\" class=\"dataframe\">\n",
       "  <thead>\n",
       "    <tr style=\"text-align: right;\">\n",
       "      <th></th>\n",
       "      <th>start_median</th>\n",
       "    </tr>\n",
       "    <tr>\n",
       "      <th>region</th>\n",
       "      <th></th>\n",
       "    </tr>\n",
       "  </thead>\n",
       "  <tbody>\n",
       "    <tr>\n",
       "      <th>Midwestern</th>\n",
       "      <td>43100.0</td>\n",
       "    </tr>\n",
       "    <tr>\n",
       "      <th>Southern</th>\n",
       "      <td>43400.0</td>\n",
       "    </tr>\n",
       "  </tbody>\n",
       "</table>\n",
       "</div>"
      ],
      "text/plain": [
       "            start_median\n",
       "region                  \n",
       "Midwestern       43100.0\n",
       "Southern         43400.0"
      ]
     },
     "execution_count": 4,
     "metadata": {},
     "output_type": "execute_result"
    }
   ],
   "source": [
    "#finding the median of the starting median salary per region using a library function\n",
    "print(\"Median starting median salary\")\n",
    "data.groupby('region')[['start_median']].median()"
   ]
  },
  {
   "cell_type": "code",
   "execution_count": 5,
   "metadata": {},
   "outputs": [
    {
     "name": "stdout",
     "output_type": "stream",
     "text": [
      "The modes for Midwestern schools =\n",
      "\n",
      "0    39800.0\n",
      "1    41400.0\n",
      "dtype: float64\n",
      "\n",
      "The modes for Southern schools =\n",
      "\n",
      "0    42600.0\n",
      "1    43100.0\n",
      "dtype: float64\n"
     ]
    }
   ],
   "source": [
    "#finding the mode of the starting median salary for each region\n",
    "#as there are more than one mode the output is more than one data array\n",
    "mode_M = data.start_median.iloc[0:71].mode()\n",
    "print(\"The modes for Midwestern schools =\")\n",
    "print(\"\")\n",
    "print(mode_M)\n",
    "print(\"\")\n",
    "\n",
    "mode_S = data.start_median.iloc[71:150].mode()\n",
    "print(\"The modes for Southern schools =\")\n",
    "print(\"\")\n",
    "print(mode_S)"
   ]
  },
  {
   "cell_type": "code",
   "execution_count": 6,
   "metadata": {},
   "outputs": [
    {
     "name": "stdout",
     "output_type": "stream",
     "text": [
      "Standard Deviation\n"
     ]
    },
    {
     "data": {
      "text/html": [
       "<div>\n",
       "<style scoped>\n",
       "    .dataframe tbody tr th:only-of-type {\n",
       "        vertical-align: middle;\n",
       "    }\n",
       "\n",
       "    .dataframe tbody tr th {\n",
       "        vertical-align: top;\n",
       "    }\n",
       "\n",
       "    .dataframe thead th {\n",
       "        text-align: right;\n",
       "    }\n",
       "</style>\n",
       "<table border=\"1\" class=\"dataframe\">\n",
       "  <thead>\n",
       "    <tr style=\"text-align: right;\">\n",
       "      <th></th>\n",
       "      <th>start_median</th>\n",
       "    </tr>\n",
       "    <tr>\n",
       "      <th>region</th>\n",
       "      <th></th>\n",
       "    </tr>\n",
       "  </thead>\n",
       "  <tbody>\n",
       "    <tr>\n",
       "      <th>Midwestern</th>\n",
       "      <td>5068.240560</td>\n",
       "    </tr>\n",
       "    <tr>\n",
       "      <th>Southern</th>\n",
       "      <td>5626.099229</td>\n",
       "    </tr>\n",
       "  </tbody>\n",
       "</table>\n",
       "</div>"
      ],
      "text/plain": [
       "            start_median\n",
       "region                  \n",
       "Midwestern   5068.240560\n",
       "Southern     5626.099229"
      ]
     },
     "execution_count": 6,
     "metadata": {},
     "output_type": "execute_result"
    }
   ],
   "source": [
    "#finding the st. deviation of the starting median salary per region \n",
    "#using a library function\n",
    "print(\"Standard Deviation\")\n",
    "data.groupby('region')[['start_median']].std()"
   ]
  },
  {
   "cell_type": "code",
   "execution_count": 7,
   "metadata": {},
   "outputs": [
    {
     "name": "stdout",
     "output_type": "stream",
     "text": [
      "Maximum Value\n"
     ]
    },
    {
     "data": {
      "text/html": [
       "<div>\n",
       "<style scoped>\n",
       "    .dataframe tbody tr th:only-of-type {\n",
       "        vertical-align: middle;\n",
       "    }\n",
       "\n",
       "    .dataframe tbody tr th {\n",
       "        vertical-align: top;\n",
       "    }\n",
       "\n",
       "    .dataframe thead th {\n",
       "        text-align: right;\n",
       "    }\n",
       "</style>\n",
       "<table border=\"1\" class=\"dataframe\">\n",
       "  <thead>\n",
       "    <tr style=\"text-align: right;\">\n",
       "      <th></th>\n",
       "      <th>start_median</th>\n",
       "    </tr>\n",
       "    <tr>\n",
       "      <th>region</th>\n",
       "      <th></th>\n",
       "    </tr>\n",
       "  </thead>\n",
       "  <tbody>\n",
       "    <tr>\n",
       "      <th>Midwestern</th>\n",
       "      <td>57100.0</td>\n",
       "    </tr>\n",
       "    <tr>\n",
       "      <th>Southern</th>\n",
       "      <td>64000.0</td>\n",
       "    </tr>\n",
       "  </tbody>\n",
       "</table>\n",
       "</div>"
      ],
      "text/plain": [
       "            start_median\n",
       "region                  \n",
       "Midwestern       57100.0\n",
       "Southern         64000.0"
      ]
     },
     "execution_count": 7,
     "metadata": {},
     "output_type": "execute_result"
    }
   ],
   "source": [
    "#finding the maximum value of the starting median salary per region \n",
    "#using a library function\n",
    "print(\"Maximum Value\")\n",
    "data.groupby('region')[['start_median']].max()"
   ]
  },
  {
   "cell_type": "code",
   "execution_count": 8,
   "metadata": {},
   "outputs": [
    {
     "name": "stdout",
     "output_type": "stream",
     "text": [
      "Minimum Value\n"
     ]
    },
    {
     "data": {
      "text/html": [
       "<div>\n",
       "<style scoped>\n",
       "    .dataframe tbody tr th:only-of-type {\n",
       "        vertical-align: middle;\n",
       "    }\n",
       "\n",
       "    .dataframe tbody tr th {\n",
       "        vertical-align: top;\n",
       "    }\n",
       "\n",
       "    .dataframe thead th {\n",
       "        text-align: right;\n",
       "    }\n",
       "</style>\n",
       "<table border=\"1\" class=\"dataframe\">\n",
       "  <thead>\n",
       "    <tr style=\"text-align: right;\">\n",
       "      <th></th>\n",
       "      <th>start_median</th>\n",
       "    </tr>\n",
       "    <tr>\n",
       "      <th>region</th>\n",
       "      <th></th>\n",
       "    </tr>\n",
       "  </thead>\n",
       "  <tbody>\n",
       "    <tr>\n",
       "      <th>Midwestern</th>\n",
       "      <td>35300.0</td>\n",
       "    </tr>\n",
       "    <tr>\n",
       "      <th>Southern</th>\n",
       "      <td>34500.0</td>\n",
       "    </tr>\n",
       "  </tbody>\n",
       "</table>\n",
       "</div>"
      ],
      "text/plain": [
       "            start_median\n",
       "region                  \n",
       "Midwestern       35300.0\n",
       "Southern         34500.0"
      ]
     },
     "execution_count": 8,
     "metadata": {},
     "output_type": "execute_result"
    }
   ],
   "source": [
    "#finding the minimum value of the starting median salary per region \n",
    "#using a library function\n",
    "print(\"Minimum Value\")\n",
    "data.groupby('region')[['start_median']].min()"
   ]
  },
  {
   "cell_type": "markdown",
   "metadata": {},
   "source": [
    "# Appendix B: Visualize Data"
   ]
  },
  {
   "cell_type": "code",
   "execution_count": 9,
   "metadata": {},
   "outputs": [
    {
     "name": "stdout",
     "output_type": "stream",
     "text": [
      "[56300.0, 53400.0, 47500.0, 56000.0, 56200.0, 52900.0, 52700.0, 57100.0, 55800.0, 52700.0, 51400.0, 48500.0, 41400.0, 48900.0, 47000.0, 45300.0, 46300.0, 46400.0, 45400.0, 46200.0, 46300.0, 44700.0, 44900.0, 42000.0, 47500.0, 43400.0, 42400.0, 41700.0, 45700.0, 43600.0, 44500.0, 44000.0, 43300.0, 45800.0, 39200.0, 45100.0, 42600.0, 42800.0, 43100.0, 40800.0, 43300.0, 42300.0, 42300.0, 41100.0, 42200.0, 42000.0, 43500.0, 41500.0, 43000.0, 40300.0, 39800.0, 41800.0, 40700.0, 41100.0, 36100.0, 42200.0, 43600.0, 38500.0, 41400.0, 39300.0, 38900.0, 41400.0, 39100.0, 44300.0, 39800.0, 38700.0, 35800.0, 39800.0, 40400.0, 39700.0, 35300.0]\n",
      "[64000.0, 55000.0, 58900.0, 58300.0, 53600.0, 51200.0, 46100.0, 52700.0, 47000.0, 49700.0, 49100.0, 53500.0, 52000.0, 48600.0, 49700.0, 52000.0, 45300.0, 42400.0, 48300.0, 47100.0, 46900.0, 47800.0, 48400.0, 44100.0, 45400.0, 45900.0, 42600.0, 47200.0, 44700.0, 44100.0, 43100.0, 46900.0, 42900.0, 41300.0, 45400.0, 42800.0, 46200.0, 46000.0, 41400.0, 46500.0, 44500.0, 42800.0, 45100.0, 43100.0, 47000.0, 41100.0, 43200.0, 43800.0, 39200.0, 43100.0, 41800.0, 49500.0, 42100.0, 43400.0, 42600.0, 40000.0, 42600.0, 41100.0, 42500.0, 39200.0, 41400.0, 40400.0, 42000.0, 40200.0, 36900.0, 46700.0, 37500.0, 40000.0, 38700.0, 40800.0, 34800.0, 35400.0, 39400.0, 37700.0, 40900.0, 36900.0, 34600.0, 34500.0, 36600.0]\n"
     ]
    },
    {
     "data": {
      "image/png": "[encoded data removed]",
      "text/plain": [
       "<Figure size 432x288 with 1 Axes>"
      ]
     },
     "metadata": {},
     "output_type": "display_data"
    },
    {
     "data": {
      "image/png": "[encoded data removed]",
      "text/plain": [
       "<Figure size 432x288 with 1 Axes>"
      ]
     },
     "metadata": {},
     "output_type": "display_data"
    }
   ],
   "source": [
    "#turning the dataframe into lists for easier analysis\n",
    "start_ms_mid = list(data['start_median'][0:71])\n",
    "start_ms_sou = list(data['start_median'][71:150])\n",
    "\n",
    "print(start_ms_mid)\n",
    "print(start_ms_sou)\n",
    "\n",
    "#creating histogram for starting median salary for Midwestern schools\n",
    "plt.hist(start_ms_mid, 8, facecolor='green', ec='black')\n",
    "\n",
    "#formatting the figure\n",
    "plt.xlabel(\"Starting Median Salary for Midwestern Schools ($)\")\n",
    "plt.ylabel(\"Frequency\")\n",
    "plt.title(\"Histogram of Starting Median Salary for Midwestern Schools\")\n",
    "plt.show()\n",
    "\n",
    "#creating histogram for starting median salary for Southern schools\n",
    "plt.hist(start_ms_sou, 8, facecolor='green', ec='black')\n",
    "\n",
    "#formatting the figure\n",
    "plt.xlabel(\"Starting Median Salary for Southern Schools ($)\")\n",
    "plt.ylabel(\"Frequency\")\n",
    "plt.title(\"Histogram of Starting Median Salary for Southern Schools \")\n",
    "plt.show()"
   ]
  },
  {
   "cell_type": "markdown",
   "metadata": {},
   "source": [
    "# Appendix C: Confidence Interval"
   ]
  },
  {
   "cell_type": "code",
   "execution_count": 10,
   "metadata": {},
   "outputs": [
    {
     "name": "stdout",
     "output_type": "stream",
     "text": [
      "Confidence interval for mean starting median salary for Midwestern schools:\n",
      "\n",
      "z_score = 1.96\n",
      "standard error = 601.4894935922143\n",
      "margin of error = 1178.91940744074\n",
      "upper confidence level = 45404.27152044074\n",
      "lower confidence level = 43046.43270555926\n",
      "Hence, the confidence interval is = ( 43046.43270555926 , 45404.27152044074 )\n",
      "\n",
      "Confidence interval for mean starting median salary for Midwestern schools:\n",
      "\n",
      "z_score = 1.96\n",
      "standard error = 632.9856171957132\n",
      "margin of error = 1240.6518097035978\n",
      "upper confidence level = 45762.1707967036\n",
      "lower confidence level = 43280.86717729641\n",
      "Hence, the confidence interval is = ( 43280.86717729641 , 45762.1707967036 )\n"
     ]
    }
   ],
   "source": [
    "#finding confidence interval for starting median salary\n",
    "\n",
    "#inputting necessary values from earlier calculations\n",
    "z_score = 1.96\n",
    "std_M = 5068.240560\n",
    "std_S = 5626.099229\n",
    "count_M = 71\n",
    "count_S = 79\n",
    "mean_M = 44225.352113\n",
    "mean_S = 44521.518987\n",
    "\n",
    "#confidence interval for Midwestern schools\n",
    "\n",
    "#finding the standard error\n",
    "st_error_M = std_M / (count_M ** 0.5)\n",
    "\n",
    "#finding the margin of error\n",
    "margin_error_M = z_score * st_error_M\n",
    "\n",
    "#finding the lower and upper confidence interval\n",
    "upper_M = mean_M + margin_error_M\n",
    "lower_M = mean_M - margin_error_M\n",
    "\n",
    "#printing relevant values\n",
    "print(\"Confidence interval for mean starting median salary for Midwestern schools:\")\n",
    "print(\"\")\n",
    "print(\"z_score =\", z_score)\n",
    "print(\"standard error =\", st_error_M)\n",
    "print(\"margin of error =\",margin_error_M)\n",
    "print(\"upper confidence level =\",upper_M)\n",
    "print(\"lower confidence level =\",lower_M)\n",
    "print(\"Hence, the confidence interval is = (\",lower_M,(\",\"),upper_M,(\")\"))\n",
    "\n",
    "#confidence interval for Southern schools with same procedure as for Midwestern\n",
    "st_error_S = std_S / (count_S ** 0.5)\n",
    "margin_error_S = z_score * st_error_S\n",
    "upper_S = mean_S + margin_error_S\n",
    "lower_S = mean_S - margin_error_S\n",
    "\n",
    "#printing relevant values\n",
    "print(\"\")\n",
    "print(\"Confidence interval for mean starting median salary for Midwestern schools:\")\n",
    "print(\"\")\n",
    "print(\"z_score =\", z_score)\n",
    "print(\"standard error =\", st_error_S)\n",
    "print(\"margin of error =\",margin_error_S)\n",
    "print(\"upper confidence level =\",upper_S)\n",
    "print(\"lower confidence level =\",lower_S)\n",
    "print(\"Hence, the confidence interval is = (\",lower_S,(\",\"),upper_S,(\")\"))"
   ]
  },
  {
   "cell_type": "markdown",
   "metadata": {},
   "source": [
    "# Appendix D: Difference of Means Test"
   ]
  },
  {
   "cell_type": "code",
   "execution_count": 11,
   "metadata": {},
   "outputs": [
    {
     "name": "stdout",
     "output_type": "stream",
     "text": [
      "Point estimate = 296.1668740000023\n",
      "Standard error = 873.1897860593975\n",
      "Test statistics = 0.33917812453644064\n",
      "P-value = 0.3674781686944153\n"
     ]
    }
   ],
   "source": [
    "#performing one-sided difference of means significance test\n",
    "\n",
    "#inputting necessary values from earlier calculations\n",
    "mean_M = 44225.352113\n",
    "mean_S = 44521.518987\n",
    "std_M = 5068.240560\n",
    "std_S = 5626.099229\n",
    "count_M = 71\n",
    "count_S = 79\n",
    "null_value = 0\n",
    "\n",
    "#finding the point estimate\n",
    "point_estimate = mean_S - mean_M\n",
    "print(\"Point estimate =\",point_estimate)\n",
    "\n",
    "#finding the standard error\n",
    "st_error = (((std_S ** 2) / count_S) + ((std_M ** 2) / count_M)) ** 0.5\n",
    "print(\"Standard error =\",st_error)\n",
    "\n",
    "#finding the test statistics\n",
    "test_statistics = (point_estimate - null_value) / st_error\n",
    "print(\"Test statistics =\",test_statistics)\n",
    "\n",
    "#We are interested in a one-sided test. Due to the symmetry, the p-value\n",
    "#of a one-sided test is the p-value for a two sided test divided by 2\n",
    "t_stat, p_val = stats.ttest_ind(start_ms_mid, start_ms_sou, equal_var=False)\n",
    "print(\"P-value =\", p_val / 2)"
   ]
  },
  {
   "cell_type": "markdown",
   "metadata": {},
   "source": [
    "# Appendix E: Hedge's g"
   ]
  },
  {
   "cell_type": "code",
   "execution_count": 12,
   "metadata": {},
   "outputs": [
    {
     "name": "stdout",
     "output_type": "stream",
     "text": [
      "Pooled standard deviation = 5354.43997578568\n",
      "Hedge's g = 0.0553129741559088\n"
     ]
    }
   ],
   "source": [
    "#computing Hedge's g\n",
    "\n",
    "#inputting necessary values from earlier calculations\n",
    "mean_M = 44225.35\n",
    "mean_S = 44521.52\n",
    "std_M = 5068.240560\n",
    "std_S = 5626.099229\n",
    "\n",
    "#finding pooled standard deviation\n",
    "std_pooled = (((std_M ** 2) + (std_S ** 2)) / 2) ** 0.5\n",
    "print(\"Pooled standard deviation =\", std_pooled)\n",
    "\n",
    "#computing Hedge's g\n",
    "hedges_g = (mean_S - mean_M) / std_pooled\n",
    "print(\"Hedge's g =\",hedges_g)"
   ]
  }
 ],
 "metadata": {
  "kernelspec": {
   "display_name": "Python 3",
   "language": "python",
   "name": "python3"
  },
  "language_info": {
   "codemirror_mode": {
    "name": "ipython",
    "version": 3
   },
   "file_extension": ".py",
   "mimetype": "text/x-python",
   "name": "python",
   "nbconvert_exporter": "python",
   "pygments_lexer": "ipython3",
   "version": "3.6.5"
  }
 },
 "nbformat": 4,
 "nbformat_minor": 2
}
